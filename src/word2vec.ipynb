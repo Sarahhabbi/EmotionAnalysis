{
  "cells": [
    {
      "cell_type": "code",
      "execution_count": 1,
      "metadata": {
        "colab": {
          "base_uri": "https://localhost:8080/"
        },
        "id": "7ugsBe0xoLS2",
        "outputId": "54626b97-6119-4faa-aeee-9b5715abb4cd"
      },
      "outputs": [
        {
          "name": "stdout",
          "output_type": "stream",
          "text": [
            "Looking in indexes: https://pypi.org/simple, https://us-python.pkg.dev/colab-wheels/public/simple/\n",
            "Collecting en_core_web_lg==2.2.5\n",
            "  Downloading https://github.com/explosion/spacy-models/releases/download/en_core_web_lg-2.2.5/en_core_web_lg-2.2.5.tar.gz (827.9 MB)\n",
            "\u001b[K     |████████████████████████████████| 827.9 MB 1.5 MB/s \n",
            "\u001b[?25hRequirement already satisfied: spacy>=2.2.2 in /usr/local/lib/python3.7/dist-packages (from en_core_web_lg==2.2.5) (2.2.4)\n",
            "Requirement already satisfied: blis<0.5.0,>=0.4.0 in /usr/local/lib/python3.7/dist-packages (from spacy>=2.2.2->en_core_web_lg==2.2.5) (0.4.1)\n",
            "Requirement already satisfied: wasabi<1.1.0,>=0.4.0 in /usr/local/lib/python3.7/dist-packages (from spacy>=2.2.2->en_core_web_lg==2.2.5) (0.9.1)\n",
            "Requirement already satisfied: catalogue<1.1.0,>=0.0.7 in /usr/local/lib/python3.7/dist-packages (from spacy>=2.2.2->en_core_web_lg==2.2.5) (1.0.0)\n",
            "Requirement already satisfied: tqdm<5.0.0,>=4.38.0 in /usr/local/lib/python3.7/dist-packages (from spacy>=2.2.2->en_core_web_lg==2.2.5) (4.64.0)\n",
            "Requirement already satisfied: murmurhash<1.1.0,>=0.28.0 in /usr/local/lib/python3.7/dist-packages (from spacy>=2.2.2->en_core_web_lg==2.2.5) (1.0.7)\n",
            "Requirement already satisfied: setuptools in /usr/local/lib/python3.7/dist-packages (from spacy>=2.2.2->en_core_web_lg==2.2.5) (57.4.0)\n",
            "Requirement already satisfied: cymem<2.1.0,>=2.0.2 in /usr/local/lib/python3.7/dist-packages (from spacy>=2.2.2->en_core_web_lg==2.2.5) (2.0.6)\n",
            "Requirement already satisfied: plac<1.2.0,>=0.9.6 in /usr/local/lib/python3.7/dist-packages (from spacy>=2.2.2->en_core_web_lg==2.2.5) (1.1.3)\n",
            "Requirement already satisfied: preshed<3.1.0,>=3.0.2 in /usr/local/lib/python3.7/dist-packages (from spacy>=2.2.2->en_core_web_lg==2.2.5) (3.0.6)\n",
            "Requirement already satisfied: thinc==7.4.0 in /usr/local/lib/python3.7/dist-packages (from spacy>=2.2.2->en_core_web_lg==2.2.5) (7.4.0)\n",
            "Requirement already satisfied: requests<3.0.0,>=2.13.0 in /usr/local/lib/python3.7/dist-packages (from spacy>=2.2.2->en_core_web_lg==2.2.5) (2.23.0)\n",
            "Requirement already satisfied: srsly<1.1.0,>=1.0.2 in /usr/local/lib/python3.7/dist-packages (from spacy>=2.2.2->en_core_web_lg==2.2.5) (1.0.5)\n",
            "Requirement already satisfied: numpy>=1.15.0 in /usr/local/lib/python3.7/dist-packages (from spacy>=2.2.2->en_core_web_lg==2.2.5) (1.21.6)\n",
            "Requirement already satisfied: importlib-metadata>=0.20 in /usr/local/lib/python3.7/dist-packages (from catalogue<1.1.0,>=0.0.7->spacy>=2.2.2->en_core_web_lg==2.2.5) (4.11.4)\n",
            "Requirement already satisfied: zipp>=0.5 in /usr/local/lib/python3.7/dist-packages (from importlib-metadata>=0.20->catalogue<1.1.0,>=0.0.7->spacy>=2.2.2->en_core_web_lg==2.2.5) (3.8.0)\n",
            "Requirement already satisfied: typing-extensions>=3.6.4 in /usr/local/lib/python3.7/dist-packages (from importlib-metadata>=0.20->catalogue<1.1.0,>=0.0.7->spacy>=2.2.2->en_core_web_lg==2.2.5) (4.2.0)\n",
            "Requirement already satisfied: idna<3,>=2.5 in /usr/local/lib/python3.7/dist-packages (from requests<3.0.0,>=2.13.0->spacy>=2.2.2->en_core_web_lg==2.2.5) (2.10)\n",
            "Requirement already satisfied: certifi>=2017.4.17 in /usr/local/lib/python3.7/dist-packages (from requests<3.0.0,>=2.13.0->spacy>=2.2.2->en_core_web_lg==2.2.5) (2022.5.18.1)\n",
            "Requirement already satisfied: urllib3!=1.25.0,!=1.25.1,<1.26,>=1.21.1 in /usr/local/lib/python3.7/dist-packages (from requests<3.0.0,>=2.13.0->spacy>=2.2.2->en_core_web_lg==2.2.5) (1.24.3)\n",
            "Requirement already satisfied: chardet<4,>=3.0.2 in /usr/local/lib/python3.7/dist-packages (from requests<3.0.0,>=2.13.0->spacy>=2.2.2->en_core_web_lg==2.2.5) (3.0.4)\n",
            "Building wheels for collected packages: en-core-web-lg\n",
            "  Building wheel for en-core-web-lg (setup.py) ... \u001b[?25l\u001b[?25hdone\n",
            "  Created wheel for en-core-web-lg: filename=en_core_web_lg-2.2.5-py3-none-any.whl size=829180942 sha256=d83772f19e3d564648520d2015a020b93f7c515e1a3d2aeda299ca5ce5f0d047\n",
            "  Stored in directory: /tmp/pip-ephem-wheel-cache-451rc65u/wheels/11/95/ba/2c36cc368c0bd339b44a791c2c1881a1fb714b78c29a4cb8f5\n",
            "Successfully built en-core-web-lg\n",
            "Installing collected packages: en-core-web-lg\n",
            "Successfully installed en-core-web-lg-2.2.5\n",
            "\u001b[38;5;2m✔ Download and installation successful\u001b[0m\n",
            "You can now load the model via spacy.load('en_core_web_lg')\n"
          ]
        }
      ],
      "source": [
        "!python -m spacy download en_core_web_lg"
      ]
    },
    {
      "cell_type": "code",
      "execution_count": null,
      "metadata": {},
      "outputs": [],
      "source": [
        "!pip3 install git+https://github.com/laxmimerit/preprocess_kgptalkie.git"
      ]
    },
    {
      "cell_type": "code",
      "execution_count": 2,
      "metadata": {
        "id": "NehEs5ZEqOam"
      },
      "outputs": [],
      "source": [
        "import spacy\n",
        "import pickle\n",
        "import sklearn\n",
        "import en_core_web_lg\n",
        "import numpy as np\n",
        "import pandas as pd\n",
        "from sklearn.linear_model import LogisticRegression\n",
        "from sklearn.model_selection import train_test_split\n",
        "from sklearn.metrics import classification_report\n",
        "from nltk.tokenize import RegexpTokenizer\n",
        "import string\n",
        "import re\n",
        "english_punctuations = string.punctuation\n",
        "punctuations_list = english_punctuations\n",
        "# STOP WORDS\n",
        "import nltk\n",
        "from nltk.corpus import stopwords\n",
        "nltk.download('stopwords')\n",
        "from nltk.tokenize import RegexpTokenizer\n",
        "#remove stopwords \n",
        "STOPWORDS = set(stopwords.words('english'))\n",
        "from sklearn.metrics import confusion_matrix\n",
        "from sklearn.utils.multiclass import unique_labels\n",
        "import matplotlib.pyplot as plt\n",
        "import seaborn as sns\n",
        "\n",
        "\n",
        "number_to_sentiment = {\n",
        "    0 : \"sadness\",\n",
        "    1 : \"worry\",\n",
        "    2 : \"anger\",\n",
        "    3 : \"neutral\",\n",
        "    4 : \"happiness\",\n",
        "    5 : \"love\"\n",
        "}"
      ]
    },
    {
      "cell_type": "code",
      "execution_count": 3,
      "metadata": {
        "id": "2ypjoY51wdW5"
      },
      "outputs": [],
      "source": [
        "nlp = en_core_web_lg.load()"
      ]
    },
    {
      "cell_type": "markdown",
      "metadata": {
        "id": "Dur1zlKbzN2h"
      },
      "source": [
        "### Model Building"
      ]
    },
    {
      "cell_type": "code",
      "execution_count": 7,
      "metadata": {
        "id": "rvs8pzlGzQkG"
      },
      "outputs": [],
      "source": [
        "df = pd.read_csv('../data/cleaned_tweet_emotions.csv')"
      ]
    },
    {
      "cell_type": "code",
      "execution_count": 8,
      "metadata": {
        "colab": {
          "base_uri": "https://localhost:8080/",
          "height": 206
        },
        "id": "x0XHIjCEza93",
        "outputId": "0b530780-bedc-4741-b71d-7d5c3712ae00"
      },
      "outputs": [
        {
          "data": {
            "text/html": [
              "\n",
              "  <div id=\"df-7f21263e-3c10-4caf-a05d-efaede6f77cd\">\n",
              "    <div class=\"colab-df-container\">\n",
              "      <div>\n",
              "<style scoped>\n",
              "    .dataframe tbody tr th:only-of-type {\n",
              "        vertical-align: middle;\n",
              "    }\n",
              "\n",
              "    .dataframe tbody tr th {\n",
              "        vertical-align: top;\n",
              "    }\n",
              "\n",
              "    .dataframe thead th {\n",
              "        text-align: right;\n",
              "    }\n",
              "</style>\n",
              "<table border=\"1\" class=\"dataframe\">\n",
              "  <thead>\n",
              "    <tr style=\"text-align: right;\">\n",
              "      <th></th>\n",
              "      <th>content</th>\n",
              "      <th>sentiment</th>\n",
              "    </tr>\n",
              "  </thead>\n",
              "  <tbody>\n",
              "    <tr>\n",
              "      <th>1</th>\n",
              "      <td>['layin', 'n', 'bed', 'headache', 'ughhhhwaiti...</td>\n",
              "      <td>0</td>\n",
              "    </tr>\n",
              "    <tr>\n",
              "      <th>2</th>\n",
              "      <td>['funeral', 'ceremonygloomy', 'friday']</td>\n",
              "      <td>0</td>\n",
              "    </tr>\n",
              "    <tr>\n",
              "      <th>3</th>\n",
              "      <td>['wants', 'hang', 'friends', 'soon']</td>\n",
              "      <td>4</td>\n",
              "    </tr>\n",
              "    <tr>\n",
              "      <th>4</th>\n",
              "      <td>['dannycastillo', 'we', 'want', 'trade', 'some...</td>\n",
              "      <td>3</td>\n",
              "    </tr>\n",
              "    <tr>\n",
              "      <th>5</th>\n",
              "      <td>['repinging', 'ghostridah14', 'didnt', 'go', '...</td>\n",
              "      <td>1</td>\n",
              "    </tr>\n",
              "  </tbody>\n",
              "</table>\n",
              "</div>\n",
              "      <button class=\"colab-df-convert\" onclick=\"convertToInteractive('df-7f21263e-3c10-4caf-a05d-efaede6f77cd')\"\n",
              "              title=\"Convert this dataframe to an interactive table.\"\n",
              "              style=\"display:none;\">\n",
              "        \n",
              "  <svg xmlns=\"http://www.w3.org/2000/svg\" height=\"24px\"viewBox=\"0 0 24 24\"\n",
              "       width=\"24px\">\n",
              "    <path d=\"M0 0h24v24H0V0z\" fill=\"none\"/>\n",
              "    <path d=\"M18.56 5.44l.94 2.06.94-2.06 2.06-.94-2.06-.94-.94-2.06-.94 2.06-2.06.94zm-11 1L8.5 8.5l.94-2.06 2.06-.94-2.06-.94L8.5 2.5l-.94 2.06-2.06.94zm10 10l.94 2.06.94-2.06 2.06-.94-2.06-.94-.94-2.06-.94 2.06-2.06.94z\"/><path d=\"M17.41 7.96l-1.37-1.37c-.4-.4-.92-.59-1.43-.59-.52 0-1.04.2-1.43.59L10.3 9.45l-7.72 7.72c-.78.78-.78 2.05 0 2.83L4 21.41c.39.39.9.59 1.41.59.51 0 1.02-.2 1.41-.59l7.78-7.78 2.81-2.81c.8-.78.8-2.07 0-2.86zM5.41 20L4 18.59l7.72-7.72 1.47 1.35L5.41 20z\"/>\n",
              "  </svg>\n",
              "      </button>\n",
              "      \n",
              "  <style>\n",
              "    .colab-df-container {\n",
              "      display:flex;\n",
              "      flex-wrap:wrap;\n",
              "      gap: 12px;\n",
              "    }\n",
              "\n",
              "    .colab-df-convert {\n",
              "      background-color: #E8F0FE;\n",
              "      border: none;\n",
              "      border-radius: 50%;\n",
              "      cursor: pointer;\n",
              "      display: none;\n",
              "      fill: #1967D2;\n",
              "      height: 32px;\n",
              "      padding: 0 0 0 0;\n",
              "      width: 32px;\n",
              "    }\n",
              "\n",
              "    .colab-df-convert:hover {\n",
              "      background-color: #E2EBFA;\n",
              "      box-shadow: 0px 1px 2px rgba(60, 64, 67, 0.3), 0px 1px 3px 1px rgba(60, 64, 67, 0.15);\n",
              "      fill: #174EA6;\n",
              "    }\n",
              "\n",
              "    [theme=dark] .colab-df-convert {\n",
              "      background-color: #3B4455;\n",
              "      fill: #D2E3FC;\n",
              "    }\n",
              "\n",
              "    [theme=dark] .colab-df-convert:hover {\n",
              "      background-color: #434B5C;\n",
              "      box-shadow: 0px 1px 3px 1px rgba(0, 0, 0, 0.15);\n",
              "      filter: drop-shadow(0px 1px 2px rgba(0, 0, 0, 0.3));\n",
              "      fill: #FFFFFF;\n",
              "    }\n",
              "  </style>\n",
              "\n",
              "      <script>\n",
              "        const buttonEl =\n",
              "          document.querySelector('#df-7f21263e-3c10-4caf-a05d-efaede6f77cd button.colab-df-convert');\n",
              "        buttonEl.style.display =\n",
              "          google.colab.kernel.accessAllowed ? 'block' : 'none';\n",
              "\n",
              "        async function convertToInteractive(key) {\n",
              "          const element = document.querySelector('#df-7f21263e-3c10-4caf-a05d-efaede6f77cd');\n",
              "          const dataTable =\n",
              "            await google.colab.kernel.invokeFunction('convertToInteractive',\n",
              "                                                     [key], {});\n",
              "          if (!dataTable) return;\n",
              "\n",
              "          const docLinkHtml = 'Like what you see? Visit the ' +\n",
              "            '<a target=\"_blank\" href=https://colab.research.google.com/notebooks/data_table.ipynb>data table notebook</a>'\n",
              "            + ' to learn more about interactive tables.';\n",
              "          element.innerHTML = '';\n",
              "          dataTable['output_type'] = 'display_data';\n",
              "          await google.colab.output.renderOutput(dataTable, element);\n",
              "          const docLink = document.createElement('div');\n",
              "          docLink.innerHTML = docLinkHtml;\n",
              "          element.appendChild(docLink);\n",
              "        }\n",
              "      </script>\n",
              "    </div>\n",
              "  </div>\n",
              "  "
            ],
            "text/plain": [
              "                                             content  sentiment\n",
              "1  ['layin', 'n', 'bed', 'headache', 'ughhhhwaiti...          0\n",
              "2            ['funeral', 'ceremonygloomy', 'friday']          0\n",
              "3               ['wants', 'hang', 'friends', 'soon']          4\n",
              "4  ['dannycastillo', 'we', 'want', 'trade', 'some...          3\n",
              "5  ['repinging', 'ghostridah14', 'didnt', 'go', '...          1"
            ]
          },
          "execution_count": 8,
          "metadata": {},
          "output_type": "execute_result"
        }
      ],
      "source": [
        "df.head()"
      ]
    },
    {
      "cell_type": "markdown",
      "metadata": {
        "id": "by_rZhjXTxjH"
      },
      "source": [
        "### `word2vec` Conversion"
      ]
    },
    {
      "cell_type": "code",
      "execution_count": 17,
      "metadata": {
        "id": "1lEcCCQrUXIj"
      },
      "outputs": [],
      "source": [
        "def get_vec(x):\n",
        "  doc = nlp(x)\n",
        "  vec = doc.vector\n",
        "  return vec"
      ]
    },
    {
      "cell_type": "code",
      "execution_count": 20,
      "metadata": {
        "id": "KLX_iRlHUg6o"
      },
      "outputs": [],
      "source": [
        "df['vec'] = df['content'].apply(lambda x: get_vec(x))"
      ]
    },
    {
      "cell_type": "code",
      "execution_count": 21,
      "metadata": {
        "colab": {
          "base_uri": "https://localhost:8080/",
          "height": 206
        },
        "id": "0C2hqWBpUg4n",
        "outputId": "c8b45128-bf1f-40a6-dfec-ab0b78834f29"
      },
      "outputs": [
        {
          "data": {
            "text/html": [
              "\n",
              "  <div id=\"df-c94c49ce-6d0f-4ecb-b6f8-fdda4cd308ce\">\n",
              "    <div class=\"colab-df-container\">\n",
              "      <div>\n",
              "<style scoped>\n",
              "    .dataframe tbody tr th:only-of-type {\n",
              "        vertical-align: middle;\n",
              "    }\n",
              "\n",
              "    .dataframe tbody tr th {\n",
              "        vertical-align: top;\n",
              "    }\n",
              "\n",
              "    .dataframe thead th {\n",
              "        text-align: right;\n",
              "    }\n",
              "</style>\n",
              "<table border=\"1\" class=\"dataframe\">\n",
              "  <thead>\n",
              "    <tr style=\"text-align: right;\">\n",
              "      <th></th>\n",
              "      <th>content</th>\n",
              "      <th>sentiment</th>\n",
              "      <th>vec</th>\n",
              "    </tr>\n",
              "  </thead>\n",
              "  <tbody>\n",
              "    <tr>\n",
              "      <th>1</th>\n",
              "      <td>['layin', 'n', 'bed', 'headache', 'ughhhhwaiti...</td>\n",
              "      <td>0</td>\n",
              "      <td>[-0.15106119, 0.3921255, -0.023442717, -0.1402...</td>\n",
              "    </tr>\n",
              "    <tr>\n",
              "      <th>2</th>\n",
              "      <td>['funeral', 'ceremonygloomy', 'friday']</td>\n",
              "      <td>0</td>\n",
              "      <td>[-0.17736591, 0.42403764, 0.0023445403, -0.091...</td>\n",
              "    </tr>\n",
              "    <tr>\n",
              "      <th>3</th>\n",
              "      <td>['wants', 'hang', 'friends', 'soon']</td>\n",
              "      <td>4</td>\n",
              "      <td>[-0.12679328, 0.3603656, -0.05800653, -0.09750...</td>\n",
              "    </tr>\n",
              "    <tr>\n",
              "      <th>4</th>\n",
              "      <td>['dannycastillo', 'we', 'want', 'trade', 'some...</td>\n",
              "      <td>3</td>\n",
              "      <td>[-0.18136817, 0.45698026, -0.012877913, -0.085...</td>\n",
              "    </tr>\n",
              "    <tr>\n",
              "      <th>5</th>\n",
              "      <td>['repinging', 'ghostridah14', 'didnt', 'go', '...</td>\n",
              "      <td>1</td>\n",
              "      <td>[-0.15367743, 0.3966674, -0.040145695, -0.1753...</td>\n",
              "    </tr>\n",
              "  </tbody>\n",
              "</table>\n",
              "</div>\n",
              "      <button class=\"colab-df-convert\" onclick=\"convertToInteractive('df-c94c49ce-6d0f-4ecb-b6f8-fdda4cd308ce')\"\n",
              "              title=\"Convert this dataframe to an interactive table.\"\n",
              "              style=\"display:none;\">\n",
              "        \n",
              "  <svg xmlns=\"http://www.w3.org/2000/svg\" height=\"24px\"viewBox=\"0 0 24 24\"\n",
              "       width=\"24px\">\n",
              "    <path d=\"M0 0h24v24H0V0z\" fill=\"none\"/>\n",
              "    <path d=\"M18.56 5.44l.94 2.06.94-2.06 2.06-.94-2.06-.94-.94-2.06-.94 2.06-2.06.94zm-11 1L8.5 8.5l.94-2.06 2.06-.94-2.06-.94L8.5 2.5l-.94 2.06-2.06.94zm10 10l.94 2.06.94-2.06 2.06-.94-2.06-.94-.94-2.06-.94 2.06-2.06.94z\"/><path d=\"M17.41 7.96l-1.37-1.37c-.4-.4-.92-.59-1.43-.59-.52 0-1.04.2-1.43.59L10.3 9.45l-7.72 7.72c-.78.78-.78 2.05 0 2.83L4 21.41c.39.39.9.59 1.41.59.51 0 1.02-.2 1.41-.59l7.78-7.78 2.81-2.81c.8-.78.8-2.07 0-2.86zM5.41 20L4 18.59l7.72-7.72 1.47 1.35L5.41 20z\"/>\n",
              "  </svg>\n",
              "      </button>\n",
              "      \n",
              "  <style>\n",
              "    .colab-df-container {\n",
              "      display:flex;\n",
              "      flex-wrap:wrap;\n",
              "      gap: 12px;\n",
              "    }\n",
              "\n",
              "    .colab-df-convert {\n",
              "      background-color: #E8F0FE;\n",
              "      border: none;\n",
              "      border-radius: 50%;\n",
              "      cursor: pointer;\n",
              "      display: none;\n",
              "      fill: #1967D2;\n",
              "      height: 32px;\n",
              "      padding: 0 0 0 0;\n",
              "      width: 32px;\n",
              "    }\n",
              "\n",
              "    .colab-df-convert:hover {\n",
              "      background-color: #E2EBFA;\n",
              "      box-shadow: 0px 1px 2px rgba(60, 64, 67, 0.3), 0px 1px 3px 1px rgba(60, 64, 67, 0.15);\n",
              "      fill: #174EA6;\n",
              "    }\n",
              "\n",
              "    [theme=dark] .colab-df-convert {\n",
              "      background-color: #3B4455;\n",
              "      fill: #D2E3FC;\n",
              "    }\n",
              "\n",
              "    [theme=dark] .colab-df-convert:hover {\n",
              "      background-color: #434B5C;\n",
              "      box-shadow: 0px 1px 3px 1px rgba(0, 0, 0, 0.15);\n",
              "      filter: drop-shadow(0px 1px 2px rgba(0, 0, 0, 0.3));\n",
              "      fill: #FFFFFF;\n",
              "    }\n",
              "  </style>\n",
              "\n",
              "      <script>\n",
              "        const buttonEl =\n",
              "          document.querySelector('#df-c94c49ce-6d0f-4ecb-b6f8-fdda4cd308ce button.colab-df-convert');\n",
              "        buttonEl.style.display =\n",
              "          google.colab.kernel.accessAllowed ? 'block' : 'none';\n",
              "\n",
              "        async function convertToInteractive(key) {\n",
              "          const element = document.querySelector('#df-c94c49ce-6d0f-4ecb-b6f8-fdda4cd308ce');\n",
              "          const dataTable =\n",
              "            await google.colab.kernel.invokeFunction('convertToInteractive',\n",
              "                                                     [key], {});\n",
              "          if (!dataTable) return;\n",
              "\n",
              "          const docLinkHtml = 'Like what you see? Visit the ' +\n",
              "            '<a target=\"_blank\" href=https://colab.research.google.com/notebooks/data_table.ipynb>data table notebook</a>'\n",
              "            + ' to learn more about interactive tables.';\n",
              "          element.innerHTML = '';\n",
              "          dataTable['output_type'] = 'display_data';\n",
              "          await google.colab.output.renderOutput(dataTable, element);\n",
              "          const docLink = document.createElement('div');\n",
              "          docLink.innerHTML = docLinkHtml;\n",
              "          element.appendChild(docLink);\n",
              "        }\n",
              "      </script>\n",
              "    </div>\n",
              "  </div>\n",
              "  "
            ],
            "text/plain": [
              "                                             content  sentiment  \\\n",
              "1  ['layin', 'n', 'bed', 'headache', 'ughhhhwaiti...          0   \n",
              "2            ['funeral', 'ceremonygloomy', 'friday']          0   \n",
              "3               ['wants', 'hang', 'friends', 'soon']          4   \n",
              "4  ['dannycastillo', 'we', 'want', 'trade', 'some...          3   \n",
              "5  ['repinging', 'ghostridah14', 'didnt', 'go', '...          1   \n",
              "\n",
              "                                                 vec  \n",
              "1  [-0.15106119, 0.3921255, -0.023442717, -0.1402...  \n",
              "2  [-0.17736591, 0.42403764, 0.0023445403, -0.091...  \n",
              "3  [-0.12679328, 0.3603656, -0.05800653, -0.09750...  \n",
              "4  [-0.18136817, 0.45698026, -0.012877913, -0.085...  \n",
              "5  [-0.15367743, 0.3966674, -0.040145695, -0.1753...  "
            ]
          },
          "execution_count": 21,
          "metadata": {},
          "output_type": "execute_result"
        }
      ],
      "source": [
        "df.head()"
      ]
    },
    {
      "cell_type": "code",
      "execution_count": 22,
      "metadata": {
        "id": "TsgpJ1GnUg0W"
      },
      "outputs": [],
      "source": [
        "X = df['vec'].to_numpy()\n",
        "X = X.reshape(-1, 1)"
      ]
    },
    {
      "cell_type": "code",
      "execution_count": 23,
      "metadata": {
        "colab": {
          "base_uri": "https://localhost:8080/"
        },
        "id": "2wPq2SBJUgtG",
        "outputId": "eb33f1dd-c1b2-422d-9616-41cce610f2f8"
      },
      "outputs": [
        {
          "data": {
            "text/plain": [
              "(66679, 1)"
            ]
          },
          "execution_count": 23,
          "metadata": {},
          "output_type": "execute_result"
        }
      ],
      "source": [
        "X.shape"
      ]
    },
    {
      "cell_type": "code",
      "execution_count": 24,
      "metadata": {
        "id": "pPBMr4MuUgqs"
      },
      "outputs": [],
      "source": [
        "X = np.concatenate(np.concatenate(X, axis = 0), axis = 0).reshape(-1, 300)"
      ]
    },
    {
      "cell_type": "code",
      "execution_count": 25,
      "metadata": {
        "colab": {
          "base_uri": "https://localhost:8080/"
        },
        "id": "O_zzEcK7Ugn4",
        "outputId": "9f6b0cec-d25b-40b0-a3d1-f405e154170c"
      },
      "outputs": [
        {
          "data": {
            "text/plain": [
              "(66679, 300)"
            ]
          },
          "execution_count": 25,
          "metadata": {},
          "output_type": "execute_result"
        }
      ],
      "source": [
        "X.shape"
      ]
    },
    {
      "cell_type": "code",
      "execution_count": 27,
      "metadata": {
        "id": "0JQlQskaUgku"
      },
      "outputs": [],
      "source": [
        "y = df['sentiment']"
      ]
    },
    {
      "cell_type": "code",
      "execution_count": 28,
      "metadata": {
        "id": "0YO4izURUgiA"
      },
      "outputs": [],
      "source": [
        "X_train, X_test, y_train, y_test = train_test_split(X, y, test_size = 0.2, random_state = 0, stratify = y)"
      ]
    },
    {
      "cell_type": "code",
      "execution_count": 29,
      "metadata": {
        "colab": {
          "base_uri": "https://localhost:8080/"
        },
        "id": "W1xCAAYNUgfy",
        "outputId": "a936e908-106c-4091-ee80-f5047480a61d"
      },
      "outputs": [
        {
          "data": {
            "text/plain": [
              "((53343, 300), (13336, 300))"
            ]
          },
          "execution_count": 29,
          "metadata": {},
          "output_type": "execute_result"
        }
      ],
      "source": [
        "X_train.shape, X_test.shape"
      ]
    },
    {
      "cell_type": "markdown",
      "metadata": {
        "id": "Mk58bS9FX6ri"
      },
      "source": [
        "### Train ML Model"
      ]
    },
    {
      "cell_type": "code",
      "execution_count": 30,
      "metadata": {
        "id": "WovHMZAhX9KU"
      },
      "outputs": [],
      "source": [
        "clf = LogisticRegression(solver='liblinear')"
      ]
    },
    {
      "cell_type": "code",
      "execution_count": 31,
      "metadata": {
        "colab": {
          "base_uri": "https://localhost:8080/"
        },
        "id": "i5C3ptnoYI0V",
        "outputId": "46516c36-4a55-4f41-f55f-a0e308d0cd7f"
      },
      "outputs": [
        {
          "data": {
            "text/plain": [
              "LogisticRegression(solver='liblinear')"
            ]
          },
          "execution_count": 31,
          "metadata": {},
          "output_type": "execute_result"
        }
      ],
      "source": [
        "clf.fit(X_train, y_train)"
      ]
    },
    {
      "cell_type": "code",
      "execution_count": 32,
      "metadata": {
        "id": "0MMGcoVQYMrm"
      },
      "outputs": [],
      "source": [
        "y_pred = clf.predict(X_test)"
      ]
    },
    {
      "cell_type": "code",
      "execution_count": 33,
      "metadata": {
        "colab": {
          "base_uri": "https://localhost:8080/"
        },
        "id": "qTCAWOV-YSDw",
        "outputId": "ba29027a-7776-450f-d2ed-222f141aeded"
      },
      "outputs": [
        {
          "name": "stdout",
          "output_type": "stream",
          "text": [
            "              precision    recall  f1-score   support\n",
            "\n",
            "           0       0.48      0.15      0.23      1270\n",
            "           1       0.41      0.27      0.32      1905\n",
            "           2       0.50      0.22      0.31      1333\n",
            "           3       0.50      0.79      0.61      4822\n",
            "           4       0.52      0.49      0.51      2835\n",
            "           5       0.61      0.40      0.49      1171\n",
            "\n",
            "    accuracy                           0.50     13336\n",
            "   macro avg       0.50      0.39      0.41     13336\n",
            "weighted avg       0.50      0.50      0.47     13336\n",
            "\n"
          ]
        }
      ],
      "source": [
        "print(classification_report(y_test, y_pred))"
      ]
    },
    {
      "cell_type": "code",
      "execution_count": 35,
      "metadata": {
        "id": "3FTinhxMY5Ms"
      },
      "outputs": [],
      "source": [
        "pickle.dump(clf, open('w2v_sentiment.pkl', 'wb'))"
      ]
    },
    {
      "cell_type": "code",
      "execution_count": 36,
      "metadata": {
        "id": "DMo-PycyY6Lv"
      },
      "outputs": [],
      "source": [
        "model = pickle.load(open('w2v_sentiment.pkl', 'rb'))"
      ]
    },
    {
      "cell_type": "code",
      "execution_count": 49,
      "metadata": {
        "id": "9mO_TloCY6Xj"
      },
      "outputs": [],
      "source": [
        "def cleaning_tweet(text):\n",
        "    # removing punctuation\n",
        "    translator = str.maketrans('', '', punctuations_list)\n",
        "    text = text.translate(translator)\n",
        "\n",
        "    # removing stop words \n",
        "    text = \" \".join([word for word in str(text).split() if word not in STOPWORDS])\n",
        "\n",
        "    # removing pseudos\n",
        "    text = text.replace('@[a-zA-Z0-9-_]*',\"\")\n",
        "\n",
        "    # to lower case\n",
        "    text = text.lower()\n",
        "\n",
        "    # remove URL\n",
        "    text = re.sub('http\\S+',\"\", text)\n",
        "\n",
        "    # tokenization\n",
        "    tokenizer = RegexpTokenizer(r'\\w+|$[0-9]+|\\S+')\n",
        "    tokenizer.tokenize(text)\n",
        "\n",
        "    return text"
      ]
    },
    {
      "cell_type": "code",
      "execution_count": 42,
      "metadata": {
        "colab": {
          "base_uri": "https://localhost:8080/"
        },
        "id": "VdVUFLK0Y6VY",
        "outputId": "ab39ecc3-5c92-4ceb-9468-e8c896a4dbcd"
      },
      "outputs": [
        {
          "data": {
            "text/plain": [
              "array([-1.43590003e-01,  1.58450007e-01, -1.82820007e-01, -2.27396667e-01,\n",
              "        1.62013009e-01,  2.90702671e-01,  1.18126333e-01, -4.76989985e-01,\n",
              "        1.35988012e-01,  2.23903346e+00, -2.32823327e-01,  1.03273332e-01,\n",
              "        2.31916323e-01,  2.05216650e-02, -2.78753310e-01, -1.53190657e-01,\n",
              "       -5.28000807e-03,  8.67619991e-01, -4.17683333e-01,  8.35463330e-02,\n",
              "       -8.46000016e-02, -2.37386703e-01,  3.66799980e-01, -1.56795993e-01,\n",
              "       -4.06316631e-02,  3.26756686e-01, -6.20186664e-02, -3.43816668e-01,\n",
              "       -4.53400016e-02, -2.78986663e-01, -5.21303304e-02, -1.28143325e-01,\n",
              "       -6.29486665e-02,  1.32602334e-01,  5.95133305e-02, -3.54660004e-02,\n",
              "        2.27786660e-01,  4.22689952e-02, -3.90443325e-01, -6.49366602e-02,\n",
              "        1.33999661e-01,  2.75566634e-02, -2.86864694e-02, -1.77450001e-01,\n",
              "        3.13410014e-01,  2.04822659e-01, -1.15996659e-01,  3.58356684e-02,\n",
              "       -1.66852340e-01, -2.24059984e-01,  9.54273269e-02,  1.42066658e-01,\n",
              "        2.41903350e-01, -4.55646664e-02,  6.15499914e-02,  5.54886647e-02,\n",
              "       -6.62790015e-02, -2.81041324e-01,  1.55859934e-02, -2.10289657e-01,\n",
              "       -1.10443674e-01, -3.28621536e-01,  1.40060320e-01,  3.07390004e-01,\n",
              "        2.18082666e-01, -4.43079978e-01,  2.51708981e-02,  1.46208331e-01,\n",
              "       -2.81166541e-03, -8.12613294e-02,  3.11076671e-01, -7.65200034e-02,\n",
              "        8.76946673e-02, -7.92929977e-02,  1.55314341e-01,  8.10673311e-02,\n",
              "       -8.07776675e-02,  1.46466689e-02,  2.19100118e-02,  6.29503310e-01,\n",
              "        1.16488665e-01, -1.23766005e-01,  2.57953018e-01,  4.04880308e-02,\n",
              "        1.30147681e-01, -1.11427329e-01, -8.06148946e-02, -2.80193329e-01,\n",
              "        2.80176669e-01, -2.29110003e-01, -3.16684008e-01, -1.99139994e-02,\n",
              "       -5.11173308e-01,  1.96869001e-01,  4.22953337e-01, -1.19963326e-01,\n",
              "        9.31800008e-02, -1.73032656e-01, -1.77682340e-01,  1.92198500e-01,\n",
              "       -1.54227003e-01,  8.03953335e-02, -1.59524009e-01, -1.39925003e-01,\n",
              "        2.83966660e-01, -4.62323338e-01,  1.30449980e-02, -1.34771004e-01,\n",
              "       -2.47104660e-01, -2.06883326e-01,  1.22350007e-01, -1.51333408e-02,\n",
              "        1.25436662e-02, -1.15745664e-01,  1.45724997e-01,  1.50069995e-02,\n",
              "        1.15163676e-01,  1.53636679e-01,  4.04863320e-02, -8.65666103e-03,\n",
              "        2.59606037e-02, -4.12323289e-02, -2.96520323e-01, -3.62499803e-03,\n",
              "       -4.96933758e-02,  2.64470011e-01, -1.43377677e-01, -2.90239990e-01,\n",
              "       -1.46664664e-01,  7.74406716e-02,  2.23419983e-02, -5.02534695e-02,\n",
              "        2.14666009e-01, -3.76666635e-02,  2.22018305e-02,  1.52253330e-01,\n",
              "       -1.55518785e-01, -1.80666670e-01,  5.78569956e-02, -1.57769665e-01,\n",
              "       -2.77340007e+00,  3.49966697e-02,  4.31663305e-01,  7.17661679e-02,\n",
              "       -1.96211651e-01, -3.66920024e-01, -2.20382407e-01, -1.76800326e-01,\n",
              "        2.34763339e-01,  1.08204000e-01, -1.56810001e-01,  1.57600995e-02,\n",
              "       -1.75306704e-02, -1.45569995e-01, -7.24753365e-02, -1.02098197e-01,\n",
              "       -1.00312330e-01, -2.17510000e-01, -8.49443302e-02, -9.71633419e-02,\n",
              "        1.03139997e-01, -6.14719987e-02,  1.39760002e-01,  3.73943336e-02,\n",
              "       -1.36146052e-02, -2.70816654e-01,  1.23539008e-01, -8.84366706e-02,\n",
              "        2.30416656e-01, -1.37476325e-01, -1.59185361e-02, -3.10081989e-01,\n",
              "        5.48099987e-02, -8.10499862e-02,  1.46494135e-01, -5.88606708e-02,\n",
              "       -7.32400045e-02,  7.59426579e-02,  1.36131659e-01, -1.61153004e-01,\n",
              "       -2.92323325e-02, -1.68142095e-01, -4.16460007e-01,  3.72340009e-02,\n",
              "       -4.12653387e-02, -6.74233362e-02, -2.24028334e-01,  9.14229974e-02,\n",
              "        2.84923315e-02,  9.52500105e-02, -1.73467323e-01, -2.48070005e-02,\n",
              "       -1.20131470e-01,  5.04606664e-02, -1.72490001e-01, -3.36076647e-01,\n",
              "        4.74625342e-02, -1.27630010e-01,  2.14789674e-01,  7.09276721e-02,\n",
              "        2.15311781e-01, -2.07016673e-02, -1.44453660e-01, -8.54203328e-02,\n",
              "       -1.95566658e-02,  3.08176666e-01, -8.90233293e-02,  1.12652004e-01,\n",
              "        2.00110331e-01,  2.15505317e-01, -9.45758298e-02, -2.50166911e-03,\n",
              "        1.27165988e-01, -6.35206699e-01, -1.54927000e-01,  1.42433330e-01,\n",
              "        3.36933345e-01, -1.58421993e-01, -7.84633383e-02, -2.29213342e-01,\n",
              "       -1.81456998e-01,  3.45660001e-02, -1.66626647e-02,  2.44966671e-01,\n",
              "        2.31673658e-01,  8.96166638e-02, -1.91737339e-01,  5.44120036e-02,\n",
              "        1.86122671e-01,  5.17066615e-03, -2.09450006e-01,  5.71373366e-02,\n",
              "       -7.53412619e-02,  1.73348352e-01, -7.61526600e-02, -2.83566713e-02,\n",
              "        1.61104664e-01, -2.52816677e-01, -1.48064986e-01,  2.09577337e-01,\n",
              "        4.61480021e-02, -8.50219950e-02,  2.67533269e-02,  1.40279993e-01,\n",
              "        2.84913927e-01, -1.31695002e-01, -1.78053334e-01, -3.63066606e-02,\n",
              "        3.52333337e-02,  1.24611653e-01,  1.96926668e-01,  4.04900312e-03,\n",
              "        3.55259962e-02, -2.24693343e-01, -1.67176664e-01,  7.71266595e-02,\n",
              "        3.09194684e-01,  2.20309999e-02, -2.26133347e-01, -1.27040341e-01,\n",
              "        2.26999998e-01,  5.62566668e-02,  1.88679993e-01,  1.43403336e-01,\n",
              "        1.65763333e-01, -1.29029989e-01,  8.40316638e-02,  2.34719992e-01,\n",
              "        4.13056642e-01,  3.65213364e-01, -3.19325328e-01, -7.99694657e-02,\n",
              "       -2.19616666e-01, -4.51059967e-01, -3.18283319e-01,  1.43407330e-01,\n",
              "       -1.95946638e-02, -2.82053351e-01,  2.02966630e-02,  7.50679970e-01,\n",
              "        3.88799943e-02, -1.78376734e-02,  9.43599641e-03, -6.24810010e-02,\n",
              "        7.28173330e-02,  1.82310000e-01,  2.67933339e-01, -2.34536663e-01,\n",
              "        1.25786334e-01, -3.26456338e-01, -2.73863345e-01,  6.88229948e-02,\n",
              "       -1.72660589e-01,  6.54866621e-02,  3.02896678e-01,  5.64703345e-02,\n",
              "       -7.74670020e-02, -2.91709989e-01,  1.56929996e-02,  1.77949980e-01],\n",
              "      dtype=float32)"
            ]
          },
          "execution_count": 42,
          "metadata": {},
          "output_type": "execute_result"
        }
      ],
      "source": [
        "x = 'this was really a $%good movie'\n",
        "\n",
        "x = cleaning_tweet(x)\n",
        "vec = get_vec(x)\n",
        "print(vec)\n",
        "\n",
        "y = model.predict(vec.reshape(1, -1))\n",
        "number_to_sentiment[y[0]]"
      ]
    },
    {
      "cell_type": "code",
      "execution_count": null,
      "metadata": {},
      "outputs": [],
      "source": [
        "def plot_confusion_matrix(y_test, y_pred):\n",
        "    labels = unique_labels(y_test)\n",
        "    column = [f'Predicted {number_to_sentiment[label]}' for label in labels]\n",
        "    indices = [f'Actual {number_to_sentiment[label]}' for label in labels]\n",
        "    table = pd.DataFrame(confusion_matrix(y_test, y_pred), columns = column, index = indices)\n",
        "\n",
        "    plt.figure(figsize=(10,10))\n",
        "    sns.heatmap(table, annot=True)\n",
        "    plt.title('Confusion Matrix')\n",
        "    plt.ylabel('Actal Values')\n",
        "    plt.xlabel('Predicted Values')\n",
        "    plt.show()"
      ]
    },
    {
      "cell_type": "code",
      "execution_count": null,
      "metadata": {},
      "outputs": [],
      "source": [
        "plot_confusion_matrix(y_test, y_pred)"
      ]
    }
  ],
  "metadata": {
    "colab": {
      "name": "word2vec.ipynb",
      "provenance": []
    },
    "kernelspec": {
      "display_name": "Python 3",
      "language": "python",
      "name": "python3"
    },
    "language_info": {
      "codemirror_mode": {
        "name": "ipython",
        "version": 3
      },
      "file_extension": ".py",
      "mimetype": "text/x-python",
      "name": "python",
      "nbconvert_exporter": "python",
      "pygments_lexer": "ipython3",
      "version": "3.7.6"
    }
  },
  "nbformat": 4,
  "nbformat_minor": 0
}
